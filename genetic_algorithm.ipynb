{
 "cells": [
  {
   "cell_type": "code",
   "execution_count": 1,
   "id": "52b29e4f",
   "metadata": {},
   "outputs": [],
   "source": [
    "from utils import schwefel_function\n",
    "from utils import initialize_X\n",
    "import random"
   ]
  },
  {
   "cell_type": "code",
   "execution_count": 2,
   "id": "8a5bd050",
   "metadata": {},
   "outputs": [],
   "source": [
    "NUMBER_OF_SOLUTIONS     = 20\n",
    "ELITE_SIZE              = 1     # ELITE_SIZE < NUMBER_OF_SOLUTIONS\n",
    "NUMBER_OF_GENERATIONS   = 1000\n",
    "MUTATION_RATE           = 5     # Porcentage\n",
    "MUTATION_SIZE           = 20    # Porcentage, one of {0, 20, 40, 60, 80, 100}"
   ]
  },
  {
   "cell_type": "code",
   "execution_count": 3,
   "id": "f7388120",
   "metadata": {},
   "outputs": [],
   "source": [
    "def new_generation(number_of_solutions, elite=None, old_generation=None):\n",
    "    generation = []\n",
    "    if old_generation is not None:\n",
    "        generation = reproduction(old_generation, elite)\n",
    "\n",
    "    while len(generation) < number_of_solutions:\n",
    "        generation.append(initialize_X())\n",
    "\n",
    "    return generation"
   ]
  },
  {
   "cell_type": "code",
   "execution_count": 9,
   "id": "764dfabf",
   "metadata": {},
   "outputs": [],
   "source": [
    "def reproduction(generation, elite=None):\n",
    "    next_generation                 = []\n",
    "    if elite is not None:\n",
    "        next_generation = [*elite]\n",
    "    while len(next_generation)      < NUMBER_OF_SOLUTIONS:\n",
    "        first_father                = generation[random.randint(0, NUMBER_OF_SOLUTIONS - 1)]\n",
    "        second_father               = generation[random.randint(0, NUMBER_OF_SOLUTIONS - 1)]\n",
    "        indexes                     = [i for i in range(5)]\n",
    "        random.shuffle(indexes)\n",
    "        first_father_indices        = indexes[:3]\n",
    "        second_father_indices       = indexes[3:]\n",
    "        son                         = []\n",
    "        for index in first_father_indices:\n",
    "            son.append(first_father[index])\n",
    "        for index in second_father_indices:\n",
    "            son.append(second_father[index])\n",
    "\n",
    "        # Mutação\n",
    "        if random.random()          <= MUTATION_RATE/100:\n",
    "            number_of_changed_characteristics = MUTATION_SIZE // 20\n",
    "            characteristics_list    = [i for i in range(5)]\n",
    "            random.shuffle(characteristics_list)\n",
    "            changed_characteristics = characteristics_list[:number_of_changed_characteristics]\n",
    "            new_characteristics     = initialize_X()\n",
    "            for characteristic in changed_characteristics:\n",
    "                son[characteristic] = new_characteristics[characteristic]\n",
    "\n",
    "        next_generation.append(son)\n",
    "        \n",
    "    return next_generation"
   ]
  },
  {
   "cell_type": "code",
   "execution_count": 22,
   "id": "8729c598",
   "metadata": {},
   "outputs": [],
   "source": [
    "for generation in range(NUMBER_OF_GENERATIONS):\n",
    "    if generation == 0:\n",
    "        solutions = new_generation(NUMBER_OF_SOLUTIONS)\n",
    "    else:\n",
    "        elite     = [solutions[scores.index(min(scores))]]\n",
    "        solutions = reproduction(solutions, elite)\n",
    "    scores = []\n",
    "    for solution in solutions:\n",
    "        scores.append(schwefel_function(solution))\n",
    "    "
   ]
  },
  {
   "cell_type": "code",
   "execution_count": 23,
   "id": "91cd83ab",
   "metadata": {},
   "outputs": [
    {
     "data": {
      "text/plain": [
       "np.float64(0.0013367528697472153)"
      ]
     },
     "execution_count": 23,
     "metadata": {},
     "output_type": "execute_result"
    }
   ],
   "source": [
    "min(scores)"
   ]
  },
  {
   "cell_type": "code",
   "execution_count": 24,
   "id": "892cb304",
   "metadata": {},
   "outputs": [
    {
     "data": {
      "text/plain": [
       "np.float64(6.36391872603781e-05)"
      ]
     },
     "execution_count": 24,
     "metadata": {},
     "output_type": "execute_result"
    }
   ],
   "source": [
    "schwefel_function([420.9687,420.9687,420.9687,420.9687,420.9687])"
   ]
  },
  {
   "cell_type": "code",
   "execution_count": 8,
   "id": "9cdb09ff",
   "metadata": {},
   "outputs": [
    {
     "data": {
      "text/plain": [
       "19"
      ]
     },
     "execution_count": 8,
     "metadata": {},
     "output_type": "execute_result"
    }
   ],
   "source": [
    "scores.index(min(scores))"
   ]
  },
  {
   "cell_type": "code",
   "execution_count": null,
   "id": "74256b8f",
   "metadata": {},
   "outputs": [
    {
     "ename": "NameError",
     "evalue": "name 'argmin' is not defined",
     "output_type": "error",
     "traceback": [
      "\u001b[31m---------------------------------------------------------------------------\u001b[39m",
      "\u001b[31mNameError\u001b[39m                                 Traceback (most recent call last)",
      "\u001b[36mCell\u001b[39m\u001b[36m \u001b[39m\u001b[32mIn[28]\u001b[39m\u001b[32m, line 1\u001b[39m\n\u001b[32m----> \u001b[39m\u001b[32m1\u001b[39m \u001b[43margmin\u001b[49m(scores)\n",
      "\u001b[31mNameError\u001b[39m: name 'argmin' is not defined"
     ]
    }
   ],
   "source": []
  }
 ],
 "metadata": {
  "kernelspec": {
   "display_name": "venv",
   "language": "python",
   "name": "python3"
  },
  "language_info": {
   "codemirror_mode": {
    "name": "ipython",
    "version": 3
   },
   "file_extension": ".py",
   "mimetype": "text/x-python",
   "name": "python",
   "nbconvert_exporter": "python",
   "pygments_lexer": "ipython3",
   "version": "3.12.2"
  }
 },
 "nbformat": 4,
 "nbformat_minor": 5
}
