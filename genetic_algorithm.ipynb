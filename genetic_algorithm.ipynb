{
 "cells": [
  {
   "cell_type": "code",
   "execution_count": 1,
   "id": "52b29e4f",
   "metadata": {},
   "outputs": [],
   "source": [
    "from utils import schwefel_function\n",
    "from utils import initialize_X\n",
    "import random\n",
    "import plotly.express as px\n",
    "import pandas as pd\n",
    "import numpy as np"
   ]
  },
  {
   "cell_type": "code",
   "execution_count": 2,
   "id": "8a5bd050",
   "metadata": {},
   "outputs": [],
   "source": [
    "NUMBER_OF_SOLUTIONS     = 20\n",
    "ELITE_SIZE              = 1     # ELITE_SIZE < NUMBER_OF_SOLUTIONS\n",
    "NUMBER_OF_GENERATIONS   = 1000\n",
    "MUTATION_RATE           = 5     # Porcentage\n",
    "MUTATION_SIZE           = 20    # Porcentage, one of {0, 20, 40, 60, 80, 100}"
   ]
  },
  {
   "cell_type": "code",
   "execution_count": 3,
   "id": "f7388120",
   "metadata": {},
   "outputs": [],
   "source": [
    "def new_generation(number_of_solutions, elite=None, old_generation=None):\n",
    "    generation = []\n",
    "    if old_generation is not None:\n",
    "        generation = reproduction(old_generation, elite)\n",
    "\n",
    "    while len(generation) < number_of_solutions:\n",
    "        generation.append(initialize_X())\n",
    "\n",
    "    return generation"
   ]
  },
  {
   "cell_type": "code",
   "execution_count": 4,
   "id": "764dfabf",
   "metadata": {},
   "outputs": [],
   "source": [
    "def reproduction(generation, elite=None):\n",
    "    next_generation                 = []\n",
    "    if elite is not None:\n",
    "        next_generation = [*elite]\n",
    "    while len(next_generation)      < NUMBER_OF_SOLUTIONS:\n",
    "        first_father                = random.choice(generation)\n",
    "        second_father               = random.choice(generation)\n",
    "        indexes                     = [i for i in range(5)]\n",
    "        random.shuffle(indexes)\n",
    "        first_father_indices        = indexes[:3]\n",
    "        second_father_indices       = indexes[3:]\n",
    "        son                         = []\n",
    "        for index in first_father_indices:\n",
    "            son.append(first_father[index])\n",
    "        for index in second_father_indices:\n",
    "            son.append(second_father[index])\n",
    "\n",
    "        # Mutação\n",
    "        if random.random()          <= MUTATION_RATE/100:\n",
    "            number_of_changed_characteristics = MUTATION_SIZE // 20\n",
    "            characteristics_list    = [i for i in range(5)]\n",
    "            random.shuffle(characteristics_list)\n",
    "            changed_characteristics = characteristics_list[:number_of_changed_characteristics]\n",
    "            new_characteristics     = initialize_X()\n",
    "            for characteristic in changed_characteristics:\n",
    "                son[characteristic] = new_characteristics[characteristic]\n",
    "\n",
    "        next_generation.append(son)\n",
    "        \n",
    "    return next_generation"
   ]
  },
  {
   "cell_type": "code",
   "execution_count": 5,
   "id": "8729c598",
   "metadata": {},
   "outputs": [
    {
     "name": "stdout",
     "output_type": "stream",
     "text": [
      "CPU times: user 224 ms, sys: 1.22 ms, total: 225 ms\n",
      "Wall time: 224 ms\n"
     ]
    }
   ],
   "source": [
    "%%time\n",
    "best_scores = []\n",
    "for generation in range(NUMBER_OF_GENERATIONS):\n",
    "    if generation == 0:\n",
    "        solutions = new_generation(NUMBER_OF_SOLUTIONS)\n",
    "    else:\n",
    "        elite     = [solutions[scores.index(min(scores))]]\n",
    "        solutions = reproduction(solutions, elite)\n",
    "    scores = []\n",
    "    for solution in solutions:\n",
    "        scores.append(schwefel_function(solution))\n",
    "    best_scores.append(min(scores))\n",
    "    "
   ]
  },
  {
   "cell_type": "code",
   "execution_count": 6,
   "id": "91cd83ab",
   "metadata": {},
   "outputs": [],
   "source": [
    "melhor_solucao_encontrada = min(scores)"
   ]
  },
  {
   "cell_type": "code",
   "execution_count": 7,
   "id": "892cb304",
   "metadata": {},
   "outputs": [],
   "source": [
    "# Solução conhecida(Mínimo global)\n",
    "melhor_solucao_global = schwefel_function([420.9687,420.9687,420.9687,420.9687,420.9687])"
   ]
  },
  {
   "cell_type": "code",
   "execution_count": 8,
   "id": "7ff4a500",
   "metadata": {},
   "outputs": [
    {
     "data": {
      "text/plain": [
       "np.float64(0.17445397522840267)"
      ]
     },
     "execution_count": 8,
     "metadata": {},
     "output_type": "execute_result"
    }
   ],
   "source": [
    "melhor_solucao_encontrada"
   ]
  },
  {
   "cell_type": "code",
   "execution_count": 9,
   "id": "3ec72a33",
   "metadata": {},
   "outputs": [
    {
     "data": {
      "text/plain": [
       "np.float64(6.36391872603781e-05)"
      ]
     },
     "execution_count": 9,
     "metadata": {},
     "output_type": "execute_result"
    }
   ],
   "source": [
    "melhor_solucao_global"
   ]
  },
  {
   "cell_type": "code",
   "execution_count": 10,
   "id": "6e1df63a",
   "metadata": {},
   "outputs": [
    {
     "data": {
      "text/plain": [
       "np.float64(0.1743903360411423)"
      ]
     },
     "execution_count": 10,
     "metadata": {},
     "output_type": "execute_result"
    }
   ],
   "source": [
    "melhor_solucao_encontrada - melhor_solucao_global"
   ]
  },
  {
   "cell_type": "code",
   "execution_count": 11,
   "id": "1a483a1c",
   "metadata": {},
   "outputs": [
    {
     "data": {
      "application/vnd.plotly.v1+json": {
       "config": {
        "plotlyServerURL": "https://plot.ly"
       },
       "data": [
        {
         "hovertemplate": "variable=0<br>index=%{x}<br>value=%{y}<extra></extra>",
         "legendgroup": "0",
         "line": {
          "color": "#636efa",
          "dash": "solid"
         },
         "marker": {
          "symbol": "circle"
         },
         "mode": "lines",
         "name": "0",
         "orientation": "v",
         "showlegend": true,
         "type": "scatter",
         "x": {
          "bdata": "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",
          "dtype": "i2"
         },
         "xaxis": "x",
         "y": {
          "bdata": "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",
          "dtype": "f8"
         },
         "yaxis": "y"
        }
       ],
       "layout": {
        "legend": {
         "title": {
          "text": "variable"
         },
         "tracegroupgap": 0
        },
        "margin": {
         "t": 60
        },
        "template": {
         "data": {
          "bar": [
           {
            "error_x": {
             "color": "#2a3f5f"
            },
            "error_y": {
             "color": "#2a3f5f"
            },
            "marker": {
             "line": {
              "color": "#E5ECF6",
              "width": 0.5
             },
             "pattern": {
              "fillmode": "overlay",
              "size": 10,
              "solidity": 0.2
             }
            },
            "type": "bar"
           }
          ],
          "barpolar": [
           {
            "marker": {
             "line": {
              "color": "#E5ECF6",
              "width": 0.5
             },
             "pattern": {
              "fillmode": "overlay",
              "size": 10,
              "solidity": 0.2
             }
            },
            "type": "barpolar"
           }
          ],
          "carpet": [
           {
            "aaxis": {
             "endlinecolor": "#2a3f5f",
             "gridcolor": "white",
             "linecolor": "white",
             "minorgridcolor": "white",
             "startlinecolor": "#2a3f5f"
            },
            "baxis": {
             "endlinecolor": "#2a3f5f",
             "gridcolor": "white",
             "linecolor": "white",
             "minorgridcolor": "white",
             "startlinecolor": "#2a3f5f"
            },
            "type": "carpet"
           }
          ],
          "choropleth": [
           {
            "colorbar": {
             "outlinewidth": 0,
             "ticks": ""
            },
            "type": "choropleth"
           }
          ],
          "contour": [
           {
            "colorbar": {
             "outlinewidth": 0,
             "ticks": ""
            },
            "colorscale": [
             [
              0,
              "#0d0887"
             ],
             [
              0.1111111111111111,
              "#46039f"
             ],
             [
              0.2222222222222222,
              "#7201a8"
             ],
             [
              0.3333333333333333,
              "#9c179e"
             ],
             [
              0.4444444444444444,
              "#bd3786"
             ],
             [
              0.5555555555555556,
              "#d8576b"
             ],
             [
              0.6666666666666666,
              "#ed7953"
             ],
             [
              0.7777777777777778,
              "#fb9f3a"
             ],
             [
              0.8888888888888888,
              "#fdca26"
             ],
             [
              1,
              "#f0f921"
             ]
            ],
            "type": "contour"
           }
          ],
          "contourcarpet": [
           {
            "colorbar": {
             "outlinewidth": 0,
             "ticks": ""
            },
            "type": "contourcarpet"
           }
          ],
          "heatmap": [
           {
            "colorbar": {
             "outlinewidth": 0,
             "ticks": ""
            },
            "colorscale": [
             [
              0,
              "#0d0887"
             ],
             [
              0.1111111111111111,
              "#46039f"
             ],
             [
              0.2222222222222222,
              "#7201a8"
             ],
             [
              0.3333333333333333,
              "#9c179e"
             ],
             [
              0.4444444444444444,
              "#bd3786"
             ],
             [
              0.5555555555555556,
              "#d8576b"
             ],
             [
              0.6666666666666666,
              "#ed7953"
             ],
             [
              0.7777777777777778,
              "#fb9f3a"
             ],
             [
              0.8888888888888888,
              "#fdca26"
             ],
             [
              1,
              "#f0f921"
             ]
            ],
            "type": "heatmap"
           }
          ],
          "histogram": [
           {
            "marker": {
             "pattern": {
              "fillmode": "overlay",
              "size": 10,
              "solidity": 0.2
             }
            },
            "type": "histogram"
           }
          ],
          "histogram2d": [
           {
            "colorbar": {
             "outlinewidth": 0,
             "ticks": ""
            },
            "colorscale": [
             [
              0,
              "#0d0887"
             ],
             [
              0.1111111111111111,
              "#46039f"
             ],
             [
              0.2222222222222222,
              "#7201a8"
             ],
             [
              0.3333333333333333,
              "#9c179e"
             ],
             [
              0.4444444444444444,
              "#bd3786"
             ],
             [
              0.5555555555555556,
              "#d8576b"
             ],
             [
              0.6666666666666666,
              "#ed7953"
             ],
             [
              0.7777777777777778,
              "#fb9f3a"
             ],
             [
              0.8888888888888888,
              "#fdca26"
             ],
             [
              1,
              "#f0f921"
             ]
            ],
            "type": "histogram2d"
           }
          ],
          "histogram2dcontour": [
           {
            "colorbar": {
             "outlinewidth": 0,
             "ticks": ""
            },
            "colorscale": [
             [
              0,
              "#0d0887"
             ],
             [
              0.1111111111111111,
              "#46039f"
             ],
             [
              0.2222222222222222,
              "#7201a8"
             ],
             [
              0.3333333333333333,
              "#9c179e"
             ],
             [
              0.4444444444444444,
              "#bd3786"
             ],
             [
              0.5555555555555556,
              "#d8576b"
             ],
             [
              0.6666666666666666,
              "#ed7953"
             ],
             [
              0.7777777777777778,
              "#fb9f3a"
             ],
             [
              0.8888888888888888,
              "#fdca26"
             ],
             [
              1,
              "#f0f921"
             ]
            ],
            "type": "histogram2dcontour"
           }
          ],
          "mesh3d": [
           {
            "colorbar": {
             "outlinewidth": 0,
             "ticks": ""
            },
            "type": "mesh3d"
           }
          ],
          "parcoords": [
           {
            "line": {
             "colorbar": {
              "outlinewidth": 0,
              "ticks": ""
             }
            },
            "type": "parcoords"
           }
          ],
          "pie": [
           {
            "automargin": true,
            "type": "pie"
           }
          ],
          "scatter": [
           {
            "fillpattern": {
             "fillmode": "overlay",
             "size": 10,
             "solidity": 0.2
            },
            "type": "scatter"
           }
          ],
          "scatter3d": [
           {
            "line": {
             "colorbar": {
              "outlinewidth": 0,
              "ticks": ""
             }
            },
            "marker": {
             "colorbar": {
              "outlinewidth": 0,
              "ticks": ""
             }
            },
            "type": "scatter3d"
           }
          ],
          "scattercarpet": [
           {
            "marker": {
             "colorbar": {
              "outlinewidth": 0,
              "ticks": ""
             }
            },
            "type": "scattercarpet"
           }
          ],
          "scattergeo": [
           {
            "marker": {
             "colorbar": {
              "outlinewidth": 0,
              "ticks": ""
             }
            },
            "type": "scattergeo"
           }
          ],
          "scattergl": [
           {
            "marker": {
             "colorbar": {
              "outlinewidth": 0,
              "ticks": ""
             }
            },
            "type": "scattergl"
           }
          ],
          "scattermap": [
           {
            "marker": {
             "colorbar": {
              "outlinewidth": 0,
              "ticks": ""
             }
            },
            "type": "scattermap"
           }
          ],
          "scattermapbox": [
           {
            "marker": {
             "colorbar": {
              "outlinewidth": 0,
              "ticks": ""
             }
            },
            "type": "scattermapbox"
           }
          ],
          "scatterpolar": [
           {
            "marker": {
             "colorbar": {
              "outlinewidth": 0,
              "ticks": ""
             }
            },
            "type": "scatterpolar"
           }
          ],
          "scatterpolargl": [
           {
            "marker": {
             "colorbar": {
              "outlinewidth": 0,
              "ticks": ""
             }
            },
            "type": "scatterpolargl"
           }
          ],
          "scatterternary": [
           {
            "marker": {
             "colorbar": {
              "outlinewidth": 0,
              "ticks": ""
             }
            },
            "type": "scatterternary"
           }
          ],
          "surface": [
           {
            "colorbar": {
             "outlinewidth": 0,
             "ticks": ""
            },
            "colorscale": [
             [
              0,
              "#0d0887"
             ],
             [
              0.1111111111111111,
              "#46039f"
             ],
             [
              0.2222222222222222,
              "#7201a8"
             ],
             [
              0.3333333333333333,
              "#9c179e"
             ],
             [
              0.4444444444444444,
              "#bd3786"
             ],
             [
              0.5555555555555556,
              "#d8576b"
             ],
             [
              0.6666666666666666,
              "#ed7953"
             ],
             [
              0.7777777777777778,
              "#fb9f3a"
             ],
             [
              0.8888888888888888,
              "#fdca26"
             ],
             [
              1,
              "#f0f921"
             ]
            ],
            "type": "surface"
           }
          ],
          "table": [
           {
            "cells": {
             "fill": {
              "color": "#EBF0F8"
             },
             "line": {
              "color": "white"
             }
            },
            "header": {
             "fill": {
              "color": "#C8D4E3"
             },
             "line": {
              "color": "white"
             }
            },
            "type": "table"
           }
          ]
         },
         "layout": {
          "annotationdefaults": {
           "arrowcolor": "#2a3f5f",
           "arrowhead": 0,
           "arrowwidth": 1
          },
          "autotypenumbers": "strict",
          "coloraxis": {
           "colorbar": {
            "outlinewidth": 0,
            "ticks": ""
           }
          },
          "colorscale": {
           "diverging": [
            [
             0,
             "#8e0152"
            ],
            [
             0.1,
             "#c51b7d"
            ],
            [
             0.2,
             "#de77ae"
            ],
            [
             0.3,
             "#f1b6da"
            ],
            [
             0.4,
             "#fde0ef"
            ],
            [
             0.5,
             "#f7f7f7"
            ],
            [
             0.6,
             "#e6f5d0"
            ],
            [
             0.7,
             "#b8e186"
            ],
            [
             0.8,
             "#7fbc41"
            ],
            [
             0.9,
             "#4d9221"
            ],
            [
             1,
             "#276419"
            ]
           ],
           "sequential": [
            [
             0,
             "#0d0887"
            ],
            [
             0.1111111111111111,
             "#46039f"
            ],
            [
             0.2222222222222222,
             "#7201a8"
            ],
            [
             0.3333333333333333,
             "#9c179e"
            ],
            [
             0.4444444444444444,
             "#bd3786"
            ],
            [
             0.5555555555555556,
             "#d8576b"
            ],
            [
             0.6666666666666666,
             "#ed7953"
            ],
            [
             0.7777777777777778,
             "#fb9f3a"
            ],
            [
             0.8888888888888888,
             "#fdca26"
            ],
            [
             1,
             "#f0f921"
            ]
           ],
           "sequentialminus": [
            [
             0,
             "#0d0887"
            ],
            [
             0.1111111111111111,
             "#46039f"
            ],
            [
             0.2222222222222222,
             "#7201a8"
            ],
            [
             0.3333333333333333,
             "#9c179e"
            ],
            [
             0.4444444444444444,
             "#bd3786"
            ],
            [
             0.5555555555555556,
             "#d8576b"
            ],
            [
             0.6666666666666666,
             "#ed7953"
            ],
            [
             0.7777777777777778,
             "#fb9f3a"
            ],
            [
             0.8888888888888888,
             "#fdca26"
            ],
            [
             1,
             "#f0f921"
            ]
           ]
          },
          "colorway": [
           "#636efa",
           "#EF553B",
           "#00cc96",
           "#ab63fa",
           "#FFA15A",
           "#19d3f3",
           "#FF6692",
           "#B6E880",
           "#FF97FF",
           "#FECB52"
          ],
          "font": {
           "color": "#2a3f5f"
          },
          "geo": {
           "bgcolor": "white",
           "lakecolor": "white",
           "landcolor": "#E5ECF6",
           "showlakes": true,
           "showland": true,
           "subunitcolor": "white"
          },
          "hoverlabel": {
           "align": "left"
          },
          "hovermode": "closest",
          "mapbox": {
           "style": "light"
          },
          "paper_bgcolor": "white",
          "plot_bgcolor": "#E5ECF6",
          "polar": {
           "angularaxis": {
            "gridcolor": "white",
            "linecolor": "white",
            "ticks": ""
           },
           "bgcolor": "#E5ECF6",
           "radialaxis": {
            "gridcolor": "white",
            "linecolor": "white",
            "ticks": ""
           }
          },
          "scene": {
           "xaxis": {
            "backgroundcolor": "#E5ECF6",
            "gridcolor": "white",
            "gridwidth": 2,
            "linecolor": "white",
            "showbackground": true,
            "ticks": "",
            "zerolinecolor": "white"
           },
           "yaxis": {
            "backgroundcolor": "#E5ECF6",
            "gridcolor": "white",
            "gridwidth": 2,
            "linecolor": "white",
            "showbackground": true,
            "ticks": "",
            "zerolinecolor": "white"
           },
           "zaxis": {
            "backgroundcolor": "#E5ECF6",
            "gridcolor": "white",
            "gridwidth": 2,
            "linecolor": "white",
            "showbackground": true,
            "ticks": "",
            "zerolinecolor": "white"
           }
          },
          "shapedefaults": {
           "line": {
            "color": "#2a3f5f"
           }
          },
          "ternary": {
           "aaxis": {
            "gridcolor": "white",
            "linecolor": "white",
            "ticks": ""
           },
           "baxis": {
            "gridcolor": "white",
            "linecolor": "white",
            "ticks": ""
           },
           "bgcolor": "#E5ECF6",
           "caxis": {
            "gridcolor": "white",
            "linecolor": "white",
            "ticks": ""
           }
          },
          "title": {
           "x": 0.05
          },
          "xaxis": {
           "automargin": true,
           "gridcolor": "white",
           "linecolor": "white",
           "ticks": "",
           "title": {
            "standoff": 15
           },
           "zerolinecolor": "white",
           "zerolinewidth": 2
          },
          "yaxis": {
           "automargin": true,
           "gridcolor": "white",
           "linecolor": "white",
           "ticks": "",
           "title": {
            "standoff": 15
           },
           "zerolinecolor": "white",
           "zerolinewidth": 2
          }
         }
        },
        "xaxis": {
         "anchor": "y",
         "domain": [
          0,
          1
         ],
         "title": {
          "text": "index"
         }
        },
        "yaxis": {
         "anchor": "x",
         "domain": [
          0,
          1
         ],
         "title": {
          "text": "value"
         }
        }
       }
      }
     },
     "metadata": {},
     "output_type": "display_data"
    }
   ],
   "source": [
    "px.line(best_scores)"
   ]
  },
  {
   "cell_type": "code",
   "execution_count": null,
   "id": "33ee4e50",
   "metadata": {},
   "outputs": [],
   "source": []
  },
  {
   "cell_type": "code",
   "execution_count": 13,
   "id": "c9c273a2",
   "metadata": {},
   "outputs": [
    {
     "data": {
      "text/html": [
       "<div>\n",
       "<style scoped>\n",
       "    .dataframe tbody tr th:only-of-type {\n",
       "        vertical-align: middle;\n",
       "    }\n",
       "\n",
       "    .dataframe tbody tr th {\n",
       "        vertical-align: top;\n",
       "    }\n",
       "\n",
       "    .dataframe thead th {\n",
       "        text-align: right;\n",
       "    }\n",
       "</style>\n",
       "<table border=\"1\" class=\"dataframe\">\n",
       "  <thead>\n",
       "    <tr style=\"text-align: right;\">\n",
       "      <th></th>\n",
       "      <th>Resultados</th>\n",
       "      <th>Tempo de execução (ms)</th>\n",
       "    </tr>\n",
       "  </thead>\n",
       "  <tbody>\n",
       "    <tr>\n",
       "      <th>count</th>\n",
       "      <td>6.000000</td>\n",
       "      <td>6.000000</td>\n",
       "    </tr>\n",
       "    <tr>\n",
       "      <th>mean</th>\n",
       "      <td>0.359061</td>\n",
       "      <td>244.333333</td>\n",
       "    </tr>\n",
       "    <tr>\n",
       "      <th>std</th>\n",
       "      <td>0.477513</td>\n",
       "      <td>17.281975</td>\n",
       "    </tr>\n",
       "    <tr>\n",
       "      <th>min</th>\n",
       "      <td>0.000064</td>\n",
       "      <td>222.000000</td>\n",
       "    </tr>\n",
       "    <tr>\n",
       "      <th>25%</th>\n",
       "      <td>0.011167</td>\n",
       "      <td>230.250000</td>\n",
       "    </tr>\n",
       "    <tr>\n",
       "      <th>50%</th>\n",
       "      <td>0.105976</td>\n",
       "      <td>248.500000</td>\n",
       "    </tr>\n",
       "    <tr>\n",
       "      <th>75%</th>\n",
       "      <td>0.766628</td>\n",
       "      <td>256.250000</td>\n",
       "    </tr>\n",
       "    <tr>\n",
       "      <th>max</th>\n",
       "      <td>0.975942</td>\n",
       "      <td>264.000000</td>\n",
       "    </tr>\n",
       "  </tbody>\n",
       "</table>\n",
       "</div>"
      ],
      "text/plain": [
       "       Resultados  Tempo de execução (ms)\n",
       "count    6.000000                6.000000\n",
       "mean     0.359061              244.333333\n",
       "std      0.477513               17.281975\n",
       "min      0.000064              222.000000\n",
       "25%      0.011167              230.250000\n",
       "50%      0.105976              248.500000\n",
       "75%      0.766628              256.250000\n",
       "max      0.975942              264.000000"
      ]
     },
     "execution_count": 13,
     "metadata": {},
     "output_type": "execute_result"
    }
   ],
   "source": [
    "pd.DataFrame(\n",
    "    {'Resultados':[\n",
    "    np.float64(0.9759418784847185), \n",
    "    np.float64(0.037499023060263426), \n",
    "    np.float64(0.9640198595960783), \n",
    "    np.float64(0.0023902830135966724),\n",
    "    np.float64(6.36391872603781e-05),\n",
    "    np.float64(0.17445397522840267)],\n",
    "    'Tempo de execução (ms)':[246,251,222,258,264,225]\n",
    "    }\n",
    ").describe()"
   ]
  }
 ],
 "metadata": {
  "kernelspec": {
   "display_name": "venv",
   "language": "python",
   "name": "python3"
  },
  "language_info": {
   "codemirror_mode": {
    "name": "ipython",
    "version": 3
   },
   "file_extension": ".py",
   "mimetype": "text/x-python",
   "name": "python",
   "nbconvert_exporter": "python",
   "pygments_lexer": "ipython3",
   "version": "3.12.3"
  }
 },
 "nbformat": 4,
 "nbformat_minor": 5
}
