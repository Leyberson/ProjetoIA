{
 "cells": [
  {
   "cell_type": "code",
   "execution_count": 1,
   "id": "850b7c95",
   "metadata": {},
   "outputs": [],
   "source": [
    "from utils import schwefel_function\n",
    "from utils import initialize_X\n",
    "import random"
   ]
  },
  {
   "cell_type": "code",
   "execution_count": 3,
   "id": "301e5403",
   "metadata": {},
   "outputs": [],
   "source": [
    "NUMBER_OF_ITERATIONS = 1000"
   ]
  },
  {
   "cell_type": "code",
   "execution_count": 4,
   "id": "5cf3d6c4",
   "metadata": {},
   "outputs": [],
   "source": [
    "solution = initialize_X()"
   ]
  },
  {
   "cell_type": "code",
   "execution_count": 5,
   "id": "4ef9586e",
   "metadata": {},
   "outputs": [
    {
     "data": {
      "text/plain": [
       "np.float64(2552.1633188417063)"
      ]
     },
     "execution_count": 5,
     "metadata": {},
     "output_type": "execute_result"
    }
   ],
   "source": [
    "schwefel_function(solution)"
   ]
  },
  {
   "cell_type": "code",
   "execution_count": 6,
   "id": "947b23f0",
   "metadata": {},
   "outputs": [
    {
     "data": {
      "text/plain": [
       "[-5.925354043655773,\n",
       " -432.2364792359733,\n",
       " -445.94695014178586,\n",
       " -295.81825816935816,\n",
       " -3.5552990475967476]"
      ]
     },
     "execution_count": 6,
     "metadata": {},
     "output_type": "execute_result"
    }
   ],
   "source": [
    "solution"
   ]
  },
  {
   "cell_type": "code",
   "execution_count": 7,
   "id": "c3eb34bc",
   "metadata": {},
   "outputs": [],
   "source": [
    "def update_solution(solution):\n",
    "    updated_index = random.choice(range(5))\n",
    "    new_value = initialize_X(size=1)[0]\n",
    "    new_solution = solution.copy()\n",
    "    new_solution[updated_index] = new_value\n",
    "\n",
    "    return new_solution"
   ]
  },
  {
   "cell_type": "code",
   "execution_count": 8,
   "id": "a3d60d96",
   "metadata": {},
   "outputs": [
    {
     "data": {
      "text/plain": [
       "[-5.925354043655773,\n",
       " -432.2364792359733,\n",
       " -260.0631706104051,\n",
       " -295.81825816935816,\n",
       " -3.5552990475967476]"
      ]
     },
     "execution_count": 8,
     "metadata": {},
     "output_type": "execute_result"
    }
   ],
   "source": [
    "update_solution(solution)"
   ]
  },
  {
   "cell_type": "code",
   "execution_count": 9,
   "id": "bf881b40",
   "metadata": {},
   "outputs": [
    {
     "data": {
      "text/plain": [
       "np.float64(2552.1633188417063)"
      ]
     },
     "execution_count": 9,
     "metadata": {},
     "output_type": "execute_result"
    }
   ],
   "source": [
    "schwefel_function(solution)"
   ]
  },
  {
   "cell_type": "code",
   "execution_count": 10,
   "id": "1afeccb0",
   "metadata": {},
   "outputs": [],
   "source": [
    "for _ in range(NUMBER_OF_ITERATIONS):\n",
    "    new_solution = update_solution(solution)\n",
    "\n",
    "    if schwefel_function(new_solution) < schwefel_function(solution):\n",
    "        solution = new_solution"
   ]
  },
  {
   "cell_type": "code",
   "execution_count": 11,
   "id": "01b40568",
   "metadata": {},
   "outputs": [
    {
     "data": {
      "text/plain": [
       "np.float64(4.452283462213131)"
      ]
     },
     "execution_count": 11,
     "metadata": {},
     "output_type": "execute_result"
    }
   ],
   "source": [
    "schwefel_function(solution)"
   ]
  },
  {
   "cell_type": "code",
   "execution_count": 12,
   "id": "00267294",
   "metadata": {},
   "outputs": [
    {
     "data": {
      "text/plain": [
       "[421.8400091609784,\n",
       " 423.0670286310999,\n",
       " 417.24233769977764,\n",
       " 422.10263055337316,\n",
       " 424.83724535450585]"
      ]
     },
     "execution_count": 12,
     "metadata": {},
     "output_type": "execute_result"
    }
   ],
   "source": [
    "solution"
   ]
  },
  {
   "cell_type": "code",
   "execution_count": null,
   "id": "f5a1ee3a",
   "metadata": {},
   "outputs": [],
   "source": []
  },
  {
   "cell_type": "code",
   "execution_count": null,
   "id": "0b1c207a",
   "metadata": {},
   "outputs": [],
   "source": []
  }
 ],
 "metadata": {
  "kernelspec": {
   "display_name": "venv",
   "language": "python",
   "name": "python3"
  },
  "language_info": {
   "codemirror_mode": {
    "name": "ipython",
    "version": 3
   },
   "file_extension": ".py",
   "mimetype": "text/x-python",
   "name": "python",
   "nbconvert_exporter": "python",
   "pygments_lexer": "ipython3",
   "version": "3.12.2"
  }
 },
 "nbformat": 4,
 "nbformat_minor": 5
}
