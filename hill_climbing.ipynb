{
 "cells": [
  {
   "cell_type": "code",
   "execution_count": 1,
   "id": "850b7c95",
   "metadata": {},
   "outputs": [],
   "source": [
    "from utils import schwefel_function\n",
    "from utils import initialize_X\n",
    "import random\n",
    "import numpy as np"
   ]
  },
  {
   "cell_type": "code",
   "execution_count": 2,
   "id": "301e5403",
   "metadata": {},
   "outputs": [],
   "source": [
    "NUMBER_OF_ITERATIONS = 1000\n",
    "NUMBER_OF_RESTARTS   = 1000"
   ]
  },
  {
   "cell_type": "code",
   "execution_count": 3,
   "id": "5cf3d6c4",
   "metadata": {},
   "outputs": [],
   "source": [
    "solution = initialize_X()"
   ]
  },
  {
   "cell_type": "code",
   "execution_count": 4,
   "id": "4ef9586e",
   "metadata": {},
   "outputs": [
    {
     "data": {
      "text/plain": [
       "np.float64(2137.5188256276806)"
      ]
     },
     "execution_count": 4,
     "metadata": {},
     "output_type": "execute_result"
    }
   ],
   "source": [
    "schwefel_function(solution)"
   ]
  },
  {
   "cell_type": "code",
   "execution_count": 5,
   "id": "947b23f0",
   "metadata": {},
   "outputs": [
    {
     "data": {
      "text/plain": [
       "[-483.57482538630234,\n",
       " 135.21545697721592,\n",
       " 7.540087323995465,\n",
       " -253.3020267910916,\n",
       " 356.54897076654834]"
      ]
     },
     "execution_count": 5,
     "metadata": {},
     "output_type": "execute_result"
    }
   ],
   "source": [
    "solution"
   ]
  },
  {
   "cell_type": "code",
   "execution_count": 6,
   "id": "c3eb34bc",
   "metadata": {},
   "outputs": [],
   "source": [
    "def update_solution(solution):\n",
    "    updated_index = random.choice(range(5))\n",
    "    new_value = initialize_X(size=1)[0]\n",
    "    new_solution = solution.copy()\n",
    "    new_solution[updated_index] = new_value\n",
    "\n",
    "    return new_solution"
   ]
  },
  {
   "cell_type": "code",
   "execution_count": 7,
   "id": "a3d60d96",
   "metadata": {},
   "outputs": [
    {
     "data": {
      "text/plain": [
       "[-483.57482538630234,\n",
       " -241.8457005915692,\n",
       " 7.540087323995465,\n",
       " -253.3020267910916,\n",
       " 356.54897076654834]"
      ]
     },
     "execution_count": 7,
     "metadata": {},
     "output_type": "execute_result"
    }
   ],
   "source": [
    "update_solution(solution)"
   ]
  },
  {
   "cell_type": "code",
   "execution_count": 8,
   "id": "bf881b40",
   "metadata": {},
   "outputs": [
    {
     "data": {
      "text/plain": [
       "np.float64(2137.5188256276806)"
      ]
     },
     "execution_count": 8,
     "metadata": {},
     "output_type": "execute_result"
    }
   ],
   "source": [
    "schwefel_function(solution)"
   ]
  },
  {
   "cell_type": "code",
   "execution_count": 9,
   "id": "1afeccb0",
   "metadata": {},
   "outputs": [],
   "source": [
    "best_score = []\n",
    "best_global_solution = None\n",
    "best_global_score = np.inf\n",
    "\n",
    "for _ in range(NUMBER_OF_RESTARTS):\n",
    "    solution = initialize_X()\n",
    "    current_score = schwefel_function(solution)\n",
    "    \n",
    "    for _ in range(NUMBER_OF_ITERATIONS):\n",
    "        new_solution    = update_solution(solution)\n",
    "        new_score       = schwefel_function(new_solution)\n",
    "\n",
    "        if new_score < current_score:\n",
    "            solution        = new_solution\n",
    "            current_score   = new_score\n",
    "        \n",
    "        best_score.append(current_score)\n",
    "\n",
    "    if current_score < best_global_score:\n",
    "        best_global_solution = solution\n",
    "        best_global_score = current_score\n",
    "    "
   ]
  },
  {
   "cell_type": "code",
   "execution_count": 10,
   "id": "01b40568",
   "metadata": {},
   "outputs": [
    {
     "data": {
      "text/plain": [
       "np.float64(0.09226039395559837)"
      ]
     },
     "execution_count": 10,
     "metadata": {},
     "output_type": "execute_result"
    }
   ],
   "source": [
    "schwefel_function(best_global_solution)"
   ]
  },
  {
   "cell_type": "code",
   "execution_count": 11,
   "id": "00267294",
   "metadata": {},
   "outputs": [
    {
     "data": {
      "text/plain": [
       "[421.63039386848095,\n",
       " 421.15318238659177,\n",
       " 421.14099656758935,\n",
       " 421.0241916421063,\n",
       " 420.4932935293215]"
      ]
     },
     "execution_count": 11,
     "metadata": {},
     "output_type": "execute_result"
    }
   ],
   "source": [
    "best_global_solution"
   ]
  },
  {
   "cell_type": "code",
   "execution_count": null,
   "id": "f5a1ee3a",
   "metadata": {},
   "outputs": [],
   "source": []
  }
 ],
 "metadata": {
  "kernelspec": {
   "display_name": "venv",
   "language": "python",
   "name": "python3"
  },
  "language_info": {
   "codemirror_mode": {
    "name": "ipython",
    "version": 3
   },
   "file_extension": ".py",
   "mimetype": "text/x-python",
   "name": "python",
   "nbconvert_exporter": "python",
   "pygments_lexer": "ipython3",
   "version": "3.12.2"
  }
 },
 "nbformat": 4,
 "nbformat_minor": 5
}
