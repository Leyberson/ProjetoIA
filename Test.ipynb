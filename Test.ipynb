{
 "cells": [
  {
   "cell_type": "code",
   "execution_count": 1,
   "id": "2699b862",
   "metadata": {},
   "outputs": [],
   "source": [
    "from numpy import random\n",
    "from utils import schwefel_function\n",
    "from utils import initialize_X"
   ]
  },
  {
   "cell_type": "code",
   "execution_count": 3,
   "id": "433b7b16",
   "metadata": {},
   "outputs": [],
   "source": [
    "X = initialize_X()"
   ]
  },
  {
   "cell_type": "code",
   "execution_count": 6,
   "id": "6ad8e0e5",
   "metadata": {},
   "outputs": [
    {
     "data": {
      "text/plain": [
       "[272.70925071989484,\n",
       " 82.49463800829562,\n",
       " -14.86050573198196,\n",
       " -481.6151766367192,\n",
       " -121.00741776932813]"
      ]
     },
     "execution_count": 6,
     "metadata": {},
     "output_type": "execute_result"
    }
   ],
   "source": [
    "X"
   ]
  },
  {
   "cell_type": "code",
   "execution_count": 4,
   "id": "e2bdaab9",
   "metadata": {},
   "outputs": [
    {
     "data": {
      "text/plain": [
       "np.float64(2155.1301512988884)"
      ]
     },
     "execution_count": 4,
     "metadata": {},
     "output_type": "execute_result"
    }
   ],
   "source": [
    "schwefel_function(X)"
   ]
  },
  {
   "cell_type": "code",
   "execution_count": null,
   "id": "1c49ff0f",
   "metadata": {},
   "outputs": [
    {
     "ename": "NameError",
     "evalue": "name '_44' is not defined",
     "output_type": "error",
     "traceback": [
      "\u001b[31m---------------------------------------------------------------------------\u001b[39m",
      "\u001b[31mNameError\u001b[39m                                 Traceback (most recent call last)",
      "\u001b[36mCell\u001b[39m\u001b[36m \u001b[39m\u001b[32mIn[5]\u001b[39m\u001b[32m, line 1\u001b[39m\n\u001b[32m----> \u001b[39m\u001b[32m1\u001b[39m \u001b[43m_44\u001b[49m\n",
      "\u001b[31mNameError\u001b[39m: name '_44' is not defined"
     ]
    }
   ],
   "source": []
  },
  {
   "cell_type": "code",
   "execution_count": null,
   "id": "c8f97035",
   "metadata": {},
   "outputs": [],
   "source": []
  }
 ],
 "metadata": {
  "kernelspec": {
   "display_name": "venv",
   "language": "python",
   "name": "python3"
  },
  "language_info": {
   "codemirror_mode": {
    "name": "ipython",
    "version": 3
   },
   "file_extension": ".py",
   "mimetype": "text/x-python",
   "name": "python",
   "nbconvert_exporter": "python",
   "pygments_lexer": "ipython3",
   "version": "3.12.2"
  }
 },
 "nbformat": 4,
 "nbformat_minor": 5
}
