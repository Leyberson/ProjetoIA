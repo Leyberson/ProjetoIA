{
 "cells": [
  {
   "cell_type": "code",
   "execution_count": 1,
   "id": "732266fe",
   "metadata": {},
   "outputs": [],
   "source": [
    "from utils import schwefel_function\n",
    "import numpy as np\n",
    "import random\n",
    "from tqdm import tqdm"
   ]
  },
  {
   "cell_type": "code",
   "execution_count": null,
   "id": "7210cb9d",
   "metadata": {},
   "outputs": [],
   "source": [
    "ANT_NUMBER = 200\n",
    "NUMBER_OF_EXPLORATION = 1000"
   ]
  },
  {
   "cell_type": "code",
   "execution_count": 3,
   "id": "86df650c",
   "metadata": {},
   "outputs": [],
   "source": [
    "possible_values = np.linspace(-500, 500, 100000)\n",
    "#weighted_values = np.ones_like(possible_values)#*100\n",
    "weighted_values = np.zeros_like(possible_values)"
   ]
  },
  {
   "cell_type": "code",
   "execution_count": 4,
   "id": "0891fed4",
   "metadata": {},
   "outputs": [
    {
     "name": "stderr",
     "output_type": "stream",
     "text": [
      "  0%|          | 0/10000 [00:00<?, ?it/s]"
     ]
    },
    {
     "name": "stderr",
     "output_type": "stream",
     "text": [
      "  0%|          | 13/10000 [00:20<4:22:20,  1.58s/it]\n"
     ]
    },
    {
     "ename": "KeyboardInterrupt",
     "evalue": "",
     "output_type": "error",
     "traceback": [
      "\u001b[31m---------------------------------------------------------------------------\u001b[39m",
      "\u001b[31mKeyboardInterrupt\u001b[39m                         Traceback (most recent call last)",
      "\u001b[36mCell\u001b[39m\u001b[36m \u001b[39m\u001b[32mIn[4]\u001b[39m\u001b[32m, line 4\u001b[39m\n\u001b[32m      2\u001b[39m ants = []\n\u001b[32m      3\u001b[39m \u001b[38;5;28;01mfor\u001b[39;00m _ \u001b[38;5;129;01min\u001b[39;00m \u001b[38;5;28mrange\u001b[39m(ANT_NUMBER):\n\u001b[32m----> \u001b[39m\u001b[32m4\u001b[39m     ants.append(\u001b[43mrandom\u001b[49m\u001b[43m.\u001b[49m\u001b[43mchoices\u001b[49m\u001b[43m(\u001b[49m\u001b[43mpossible_values\u001b[49m\u001b[43m,\u001b[49m\u001b[43m \u001b[49m\u001b[43mweighted_values\u001b[49m\u001b[43m+\u001b[49m\u001b[32;43m1\u001b[39;49m\u001b[43m,\u001b[49m\u001b[43m \u001b[49m\u001b[43mk\u001b[49m\u001b[43m=\u001b[49m\u001b[32;43m5\u001b[39;49m\u001b[43m)\u001b[49m)\n\u001b[32m      5\u001b[39m ants = np.array(ants)\n\u001b[32m      6\u001b[39m scores = schwefel_function(ants.T)\n",
      "\u001b[36mFile \u001b[39m\u001b[32m~\\AppData\\Local\\Programs\\Python\\Python312\\Lib\\random.py:484\u001b[39m, in \u001b[36mRandom.choices\u001b[39m\u001b[34m(self, population, weights, cum_weights, k)\u001b[39m\n\u001b[32m    482\u001b[39m \u001b[38;5;28;01mif\u001b[39;00m total <= \u001b[32m0.0\u001b[39m:\n\u001b[32m    483\u001b[39m     \u001b[38;5;28;01mraise\u001b[39;00m \u001b[38;5;167;01mValueError\u001b[39;00m(\u001b[33m'\u001b[39m\u001b[33mTotal of weights must be greater than zero\u001b[39m\u001b[33m'\u001b[39m)\n\u001b[32m--> \u001b[39m\u001b[32m484\u001b[39m \u001b[38;5;28;01mif\u001b[39;00m \u001b[38;5;129;01mnot\u001b[39;00m \u001b[43m_isfinite\u001b[49m\u001b[43m(\u001b[49m\u001b[43mtotal\u001b[49m\u001b[43m)\u001b[49m:\n\u001b[32m    485\u001b[39m     \u001b[38;5;28;01mraise\u001b[39;00m \u001b[38;5;167;01mValueError\u001b[39;00m(\u001b[33m'\u001b[39m\u001b[33mTotal of weights must be finite\u001b[39m\u001b[33m'\u001b[39m)\n\u001b[32m    486\u001b[39m bisect = _bisect\n",
      "\u001b[31mKeyboardInterrupt\u001b[39m: "
     ]
    }
   ],
   "source": [
    "for _ in tqdm(range(NUMBER_OF_EXPLORATION)):\n",
    "    ants = []\n",
    "    for _ in range(ANT_NUMBER):\n",
    "        ants.append(random.choices(possible_values, weighted_values+1, k=5))\n",
    "    ants = np.array(ants)\n",
    "    scores = schwefel_function(ants.T)\n",
    "    for i in range(ants.shape[0]):\n",
    "        for value in ants[i]:\n",
    "            updated_index = np.where(possible_values == value)\n",
    "            weighted_values[updated_index] += 1 / scores[i]\n",
    "            #weighted_values[updated_index] += 1 / schwefel_function([value])\n",
    "    weighted_values *= 0.99"
   ]
  },
  {
   "cell_type": "code",
   "execution_count": null,
   "id": "d3ec619c",
   "metadata": {},
   "outputs": [
    {
     "data": {
      "text/plain": [
       "np.float64(1270.3183936276519)"
      ]
     },
     "execution_count": 9,
     "metadata": {},
     "output_type": "execute_result"
    }
   ],
   "source": [
    "scores.min()"
   ]
  },
  {
   "cell_type": "code",
   "execution_count": null,
   "id": "999e934b",
   "metadata": {},
   "outputs": [
    {
     "data": {
      "text/plain": [
       "np.float64(0.0)"
      ]
     },
     "execution_count": 11,
     "metadata": {},
     "output_type": "execute_result"
    }
   ],
   "source": [
    "weighted_values.min()"
   ]
  },
  {
   "cell_type": "code",
   "execution_count": null,
   "id": "35e79c44",
   "metadata": {},
   "outputs": [
    {
     "data": {
      "text/plain": [
       "array([0., 0., 0., ..., 0., 0., 0.], shape=(36857,))"
      ]
     },
     "execution_count": 13,
     "metadata": {},
     "output_type": "execute_result"
    }
   ],
   "source": [
    "weighted_values[np.where(weighted_values == 0)]"
   ]
  }
 ],
 "metadata": {
  "kernelspec": {
   "display_name": "venv",
   "language": "python",
   "name": "python3"
  },
  "language_info": {
   "codemirror_mode": {
    "name": "ipython",
    "version": 3
   },
   "file_extension": ".py",
   "mimetype": "text/x-python",
   "name": "python",
   "nbconvert_exporter": "python",
   "pygments_lexer": "ipython3",
   "version": "3.12.2"
  }
 },
 "nbformat": 4,
 "nbformat_minor": 5
}
