{
 "cells": [
  {
   "cell_type": "code",
   "execution_count": 1,
   "id": "732266fe",
   "metadata": {},
   "outputs": [],
   "source": [
    "from utils import schwefel_function\n",
    "import numpy as np\n",
    "import random\n",
    "from tqdm import tqdm"
   ]
  },
  {
   "cell_type": "code",
   "execution_count": 2,
   "id": "7210cb9d",
   "metadata": {},
   "outputs": [],
   "source": [
    "ANT_NUMBER = 20\n",
    "NUMBER_OF_EXPLORATION = 1000"
   ]
  },
  {
   "cell_type": "code",
   "execution_count": 3,
   "id": "86df650c",
   "metadata": {},
   "outputs": [],
   "source": [
    "possible_values = np.linspace(-500, 500, 100000)\n",
    "#weighted_values = np.ones_like(possible_values)#*100\n",
    "weighted_values = np.zeros_like(possible_values)"
   ]
  },
  {
   "cell_type": "code",
   "execution_count": null,
   "id": "0891fed4",
   "metadata": {},
   "outputs": [
    {
     "name": "stderr",
     "output_type": "stream",
     "text": [
      "100%|██████████| 1000/1000 [01:54<00:00,  8.77it/s]\n"
     ]
    }
   ],
   "source": [
    "%%time\n",
    "for _ in tqdm(range(NUMBER_OF_EXPLORATION)):\n",
    "    ants = []\n",
    "    for _ in range(ANT_NUMBER):\n",
    "        ants.append(random.choices(possible_values, weighted_values+1, k=5))\n",
    "    ants = np.array(ants)\n",
    "    scores = schwefel_function(ants.T)\n",
    "    for i in range(ants.shape[0]):\n",
    "        for value in ants[i]:\n",
    "            updated_index = np.where(possible_values == value)\n",
    "            #weighted_values[updated_index] += 1 / scores[i]\n",
    "            weighted_values[updated_index] += 1 / schwefel_function([value])\n",
    "    weighted_values *= 0.99"
   ]
  },
  {
   "cell_type": "code",
   "execution_count": 5,
   "id": "d3ec619c",
   "metadata": {},
   "outputs": [
    {
     "data": {
      "text/plain": [
       "np.float64(1345.4945380803892)"
      ]
     },
     "execution_count": 5,
     "metadata": {},
     "output_type": "execute_result"
    }
   ],
   "source": [
    "scores.min()"
   ]
  },
  {
   "cell_type": "code",
   "execution_count": 6,
   "id": "999e934b",
   "metadata": {},
   "outputs": [
    {
     "data": {
      "text/plain": [
       "np.float64(0.0)"
      ]
     },
     "execution_count": 6,
     "metadata": {},
     "output_type": "execute_result"
    }
   ],
   "source": [
    "weighted_values.min()"
   ]
  },
  {
   "cell_type": "code",
   "execution_count": 7,
   "id": "35e79c44",
   "metadata": {},
   "outputs": [
    {
     "data": {
      "text/plain": [
       "array([0., 0., 0., ..., 0., 0., 0.], shape=(36685,))"
      ]
     },
     "execution_count": 7,
     "metadata": {},
     "output_type": "execute_result"
    }
   ],
   "source": [
    "weighted_values[np.where(weighted_values == 0)]"
   ]
  }
 ],
 "metadata": {
  "kernelspec": {
   "display_name": "venv",
   "language": "python",
   "name": "python3"
  },
  "language_info": {
   "codemirror_mode": {
    "name": "ipython",
    "version": 3
   },
   "file_extension": ".py",
   "mimetype": "text/x-python",
   "name": "python",
   "nbconvert_exporter": "python",
   "pygments_lexer": "ipython3",
   "version": "3.12.3"
  }
 },
 "nbformat": 4,
 "nbformat_minor": 5
}
