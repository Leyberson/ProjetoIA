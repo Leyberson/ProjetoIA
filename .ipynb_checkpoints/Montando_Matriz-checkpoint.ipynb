{
 "cells": [
  {
   "cell_type": "code",
   "execution_count": 3,
   "id": "3f54b05b-5395-4aa7-bcbc-b34dfa101fbf",
   "metadata": {},
   "outputs": [],
   "source": [
    "import json\n",
    "import random\n",
    "import numpy as np"
   ]
  },
  {
   "cell_type": "code",
   "execution_count": 4,
   "id": "208f87da-d468-4a04-a51b-178b3116e120",
   "metadata": {},
   "outputs": [
    {
     "data": {
      "text/plain": [
       "[[0, 20, 0, 0, 0, 0, 0, 29, 0, 0, 0, 29, 37, 0, 0, 0, 0, 0],\n",
       " [20, 0, 25, 0, 0, 0, 0, 28, 0, 0, 0, 39, 0, 0, 0, 0, 0, 0],\n",
       " [0, 25, 0, 25, 0, 0, 0, 30, 0, 0, 0, 0, 54, 0, 0, 0, 0, 0],\n",
       " [0, 0, 25, 0, 39, 32, 42, 0, 23, 33, 0, 0, 0, 56, 0, 0, 0, 0],\n",
       " [0, 0, 0, 39, 0, 12, 26, 0, 0, 19, 0, 0, 0, 0, 0, 0, 0, 0],\n",
       " [0, 0, 0, 32, 12, 0, 17, 0, 0, 35, 30, 0, 0, 0, 0, 0, 0, 0],\n",
       " [0, 0, 0, 42, 26, 17, 0, 0, 0, 0, 38, 0, 0, 0, 0, 0, 0, 0],\n",
       " [29, 28, 30, 0, 0, 0, 0, 0, 0, 0, 0, 25, 22, 0, 0, 0, 0, 0],\n",
       " [0, 0, 0, 23, 0, 0, 0, 0, 0, 26, 0, 0, 34, 0, 0, 43, 0, 0],\n",
       " [0, 0, 0, 33, 19, 35, 0, 0, 26, 0, 24, 0, 0, 30, 19, 0, 0, 0],\n",
       " [0, 0, 0, 0, 0, 30, 38, 0, 0, 24, 0, 0, 0, 0, 26, 0, 0, 36],\n",
       " [29, 39, 0, 0, 0, 0, 0, 25, 0, 0, 0, 0, 27, 0, 0, 43, 0, 0],\n",
       " [37, 0, 54, 0, 0, 0, 0, 22, 34, 0, 0, 27, 0, 24, 0, 19, 0, 0],\n",
       " [0, 0, 0, 56, 0, 0, 0, 0, 0, 30, 0, 0, 24, 0, 20, 19, 17, 0],\n",
       " [0, 0, 0, 0, 0, 0, 0, 0, 0, 19, 26, 0, 0, 20, 0, 0, 18, 21],\n",
       " [0, 0, 0, 0, 0, 0, 0, 0, 43, 0, 0, 43, 19, 19, 0, 0, 26, 0],\n",
       " [0, 0, 0, 0, 0, 0, 0, 0, 0, 0, 0, 0, 0, 17, 18, 26, 0, 15],\n",
       " [0, 0, 0, 0, 0, 0, 0, 0, 0, 0, 36, 0, 0, 0, 21, 0, 15, 0]]"
      ]
     },
     "metadata": {},
     "output_type": "display_data"
    }
   ],
   "source": [
    "# Carregar a matriz de adjacência\n",
    "with open('matriz_de_adjacência.json', 'r') as file:\n",
    "    matriz = json.load(file)\n",
    "\n",
    "display(matriz)"
   ]
  },
  {
   "cell_type": "code",
   "execution_count": 5,
   "id": "1c7fd978-dbc5-4409-bd92-197994c05da0",
   "metadata": {},
   "outputs": [
    {
     "data": {
      "text/plain": [
       "(18, 18)"
      ]
     },
     "execution_count": 5,
     "metadata": {},
     "output_type": "execute_result"
    }
   ],
   "source": [
    "matriz = np.array(matriz)\n",
    "matriz.shape"
   ]
  },
  {
   "cell_type": "code",
   "execution_count": 6,
   "id": "4a3066dd-2422-4a33-9a55-260295a11218",
   "metadata": {},
   "outputs": [
    {
     "data": {
      "text/plain": [
       "True"
      ]
     },
     "execution_count": 6,
     "metadata": {},
     "output_type": "execute_result"
    }
   ],
   "source": [
    "np.allclose(matriz, matriz.T) #Se True, a matriz está simétrica"
   ]
  },
  {
   "cell_type": "code",
   "execution_count": 4,
   "id": "8ece7c56-284a-4c65-97b6-e9a7e0c37f8b",
   "metadata": {},
   "outputs": [],
   "source": [
    "#matriz[3-1][12-1] = 0\n",
    "#matriz[10-1][6-1] = 35\n",
    "#matriz[11-1][10-1] = 24\n",
    "#matriz[16-1][9-1] = 43"
   ]
  },
  {
   "cell_type": "code",
   "execution_count": 5,
   "id": "42654f23-faa5-4575-8ca7-f629bfc9561a",
   "metadata": {},
   "outputs": [
    {
     "name": "stdout",
     "output_type": "stream",
     "text": [
      "\n",
      "i = 1, val = [ 0 20  0  0  0  0  0 29  0  0  0 29 37  0  0  0  0  0]\n",
      "1 - 2 == 20\n",
      "1 - 8 == 29\n",
      "1 - 12 == 29\n",
      "1 - 13 == 37\n",
      "\n",
      "i = 2, val = [20  0 25  0  0  0  0 28  0  0  0 39  0  0  0  0  0  0]\n",
      "2 - 1 == 20\n",
      "2 - 3 == 25\n",
      "2 - 8 == 28\n",
      "2 - 12 == 39\n",
      "\n",
      "i = 3, val = [ 0 25  0 25  0  0  0 30  0  0  0 29 54  0  0  0  0  0]\n",
      "3 - 2 == 25\n",
      "3 - 4 == 25\n",
      "3 - 8 == 30\n",
      "3 - 12 == 29\n",
      "3 - 13 == 54\n",
      "\n",
      "i = 4, val = [ 0  0 25  0 39 32 42  0 23 33  0  0  0 56  0  0  0  0]\n",
      "4 - 3 == 25\n",
      "4 - 5 == 39\n",
      "4 - 6 == 32\n",
      "4 - 7 == 42\n",
      "4 - 9 == 23\n",
      "4 - 10 == 33\n",
      "4 - 14 == 56\n",
      "\n",
      "i = 5, val = [ 0  0  0 39  0 12 26  0  0 19  0  0  0  0  0  0  0  0]\n",
      "5 - 4 == 39\n",
      "5 - 6 == 12\n",
      "5 - 7 == 26\n",
      "5 - 10 == 19\n",
      "\n",
      "i = 6, val = [ 0  0  0 32 12  0 17  0  0 35 30  0  0  0  0  0  0  0]\n",
      "6 - 4 == 32\n",
      "6 - 5 == 12\n",
      "6 - 7 == 17\n",
      "6 - 10 == 35\n",
      "6 - 11 == 30\n",
      "\n",
      "i = 7, val = [ 0  0  0 42 26 17  0  0  0  0 38  0  0  0  0  0  0  0]\n",
      "7 - 4 == 42\n",
      "7 - 5 == 26\n",
      "7 - 6 == 17\n",
      "7 - 11 == 38\n",
      "\n",
      "i = 8, val = [29 28 30  0  0  0  0  0  0  0  0 25 22  0  0  0  0  0]\n",
      "8 - 1 == 29\n",
      "8 - 2 == 28\n",
      "8 - 3 == 30\n",
      "8 - 12 == 25\n",
      "8 - 13 == 22\n",
      "\n",
      "i = 9, val = [ 0  0  0 23  0  0  0  0  0 26  0  0 34  0  0 43  0  0]\n",
      "9 - 4 == 23\n",
      "9 - 10 == 26\n",
      "9 - 13 == 34\n",
      "9 - 16 == 43\n",
      "\n",
      "i = 10, val = [ 0  0  0 33 19  0  0  0 26  0 24  0  0 30 19  0  0  0]\n",
      "10 - 4 == 33\n",
      "10 - 5 == 19\n",
      "10 - 9 == 26\n",
      "10 - 11 == 24\n",
      "10 - 14 == 30\n",
      "10 - 15 == 19\n",
      "\n",
      "i = 11, val = [ 0  0  0  0  0 30 38  0  0 10  0  0  0  0 26  0  0 36]\n",
      "11 - 6 == 30\n",
      "11 - 7 == 38\n",
      "11 - 10 == 10\n",
      "11 - 15 == 26\n",
      "11 - 18 == 36\n",
      "\n",
      "i = 12, val = [29 39  0  0  0  0  0 25  0  0  0  0 27  0  0 43  0  0]\n",
      "12 - 1 == 29\n",
      "12 - 2 == 39\n",
      "12 - 8 == 25\n",
      "12 - 13 == 27\n",
      "12 - 16 == 43\n",
      "\n",
      "i = 13, val = [37  0 54  0  0  0  0 22 34  0  0 27  0 24  0 19  0  0]\n",
      "13 - 1 == 37\n",
      "13 - 3 == 54\n",
      "13 - 8 == 22\n",
      "13 - 9 == 34\n",
      "13 - 12 == 27\n",
      "13 - 14 == 24\n",
      "13 - 16 == 19\n",
      "\n",
      "i = 14, val = [ 0  0  0 56  0  0  0  0  0 30  0  0 24  0 20 19 17  0]\n",
      "14 - 4 == 56\n",
      "14 - 10 == 30\n",
      "14 - 13 == 24\n",
      "14 - 15 == 20\n",
      "14 - 16 == 19\n",
      "14 - 17 == 17\n",
      "\n",
      "i = 15, val = [ 0  0  0  0  0  0  0  0  0 19 26  0  0 20  0  0 18 21]\n",
      "15 - 10 == 19\n",
      "15 - 11 == 26\n",
      "15 - 14 == 20\n",
      "15 - 17 == 18\n",
      "15 - 18 == 21\n",
      "\n",
      "i = 16, val = [ 0  0  0  0  0  0  0  0  0  0  0 43 19 19  0  0 26  0]\n",
      "16 - 12 == 43\n",
      "16 - 13 == 19\n",
      "16 - 14 == 19\n",
      "16 - 17 == 26\n",
      "\n",
      "i = 17, val = [ 0  0  0  0  0  0  0  0  0  0  0  0  0 17 18 26  0 15]\n",
      "17 - 14 == 17\n",
      "17 - 15 == 18\n",
      "17 - 16 == 26\n",
      "17 - 18 == 15\n",
      "\n",
      "i = 18, val = [ 0  0  0  0  0  0  0  0  0  0 36  0  0  0 21  0 15  0]\n",
      "18 - 11 == 36\n",
      "18 - 15 == 21\n",
      "18 - 17 == 15\n"
     ]
    }
   ],
   "source": [
    "for i,val in enumerate(matriz):\n",
    "    print(f'\\ni = {i+1}, val = {val}')\n",
    "    for j, val_j in enumerate(val):\n",
    "        if val_j != 0:\n",
    "            print(f'{i+1} - {j+1} == {val_j}')"
   ]
  },
  {
   "cell_type": "code",
   "execution_count": 22,
   "id": "f08d83d8-b606-4cdf-b149-b46cd10028da",
   "metadata": {},
   "outputs": [],
   "source": [
    "matriz_lista = matriz.tolist()"
   ]
  },
  {
   "cell_type": "code",
   "execution_count": 23,
   "id": "91d84cf0-7226-4440-aae4-c353b8e67a9a",
   "metadata": {},
   "outputs": [],
   "source": [
    "# with open('matriz_corrigida.json', 'w') as file:\n",
    "#     json.dump(matriz_lista, file, indent=4)"
   ]
  },
  {
   "cell_type": "code",
   "execution_count": null,
   "id": "3f429d2d-a996-49fe-9b62-97535520c2c5",
   "metadata": {},
   "outputs": [],
   "source": []
  }
 ],
 "metadata": {
  "kernelspec": {
   "display_name": "Python 3 (ipykernel)",
   "language": "python",
   "name": "python3"
  },
  "language_info": {
   "codemirror_mode": {
    "name": "ipython",
    "version": 3
   },
   "file_extension": ".py",
   "mimetype": "text/x-python",
   "name": "python",
   "nbconvert_exporter": "python",
   "pygments_lexer": "ipython3",
   "version": "3.12.3"
  }
 },
 "nbformat": 4,
 "nbformat_minor": 5
}
